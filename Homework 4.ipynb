{
 "cells": [
  {
   "cell_type": "code",
   "execution_count": 32,
   "metadata": {},
   "outputs": [],
   "source": [
    "import numpy as np\n",
    "data = sns.load_dataset('tips')\n",
    "\n",
    "X = data.drop('total_bill', axis = 1).drop('tip', axis = 1)\n",
    "y = data['tip'].astype(np.int64)"
   ]
  },
  {
   "cell_type": "code",
   "execution_count": 34,
   "metadata": {},
   "outputs": [
    {
     "name": "stdout",
     "output_type": "stream",
     "text": [
      "1.286\n"
     ]
    }
   ],
   "source": [
    "# Дополните код для работы программы на месте троеточия \"...\"\n",
    "import pandas as pd\n",
    "from sklearn.model_selection import train_test_split\n",
    "\n",
    "# Импортируйте энкодеры для предобработки категориальных переменных\n",
    "from sklearn.preprocessing import OrdinalEncoder\n",
    "\n",
    "# Импортируйте регрессор на дереве принятия решений\n",
    "from sklearn.tree import DecisionTreeClassifier\n",
    "\n",
    "# Импортируйте MAE\n",
    "from sklearn.metrics import mean_absolute_error\n",
    "\n",
    "\n",
    "# Предобработайте категориальные переменные в исходных данных (может быть более одной строки)\n",
    "encoder = OrdinalEncoder()\n",
    "X1 = X.copy()\n",
    "\n",
    "for column in X1:\n",
    "    if column != 'size':\n",
    "        X1[column] = encoder.fit_transform(X1[[column]])\n",
    "        \n",
    "\n",
    "# Разделите данные на тренировочную и тестовые выборки\n",
    "\n",
    "X_train, X_test, y_train, y_test = train_test_split(X1, y, test_size = .2, random_state = 1)\n",
    "\n",
    "# Создайте и обучите регрессор на тренировочных данных\n",
    "model = DecisionTreeClassifier()\n",
    "model.fit(X_train, y_train)\n",
    "\n",
    "# Сделайте предсказание на тренировочных данных\n",
    "pred = model.predict(X_test)\n",
    "\n",
    "# Вывести MAE до 3-го знака после запятой\n",
    "print( round(mean_absolute_error(pred, y_test),3))"
   ]
  },
  {
   "cell_type": "code",
   "execution_count": null,
   "metadata": {},
   "outputs": [],
   "source": []
  }
 ],
 "metadata": {
  "kernelspec": {
   "display_name": "Python 3",
   "language": "python",
   "name": "python3"
  },
  "language_info": {
   "codemirror_mode": {
    "name": "ipython",
    "version": 3
   },
   "file_extension": ".py",
   "mimetype": "text/x-python",
   "name": "python",
   "nbconvert_exporter": "python",
   "pygments_lexer": "ipython3",
   "version": "3.8.5"
  }
 },
 "nbformat": 4,
 "nbformat_minor": 4
}
